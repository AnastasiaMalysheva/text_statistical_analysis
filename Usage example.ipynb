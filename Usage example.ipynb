{
 "cells": [
  {
   "cell_type": "code",
   "execution_count": 2,
   "metadata": {},
   "outputs": [],
   "source": [
    "from text_statistics.statistics_class import TextStatistics"
   ]
  },
  {
   "cell_type": "markdown",
   "metadata": {},
   "source": [
    "## Load text example\n",
    "We use a story Russian children's writer Nosov."
   ]
  },
  {
   "cell_type": "code",
   "execution_count": 3,
   "metadata": {},
   "outputs": [],
   "source": [
    "with open('text_statistics/data/text_example.txt', 'r', encoding='utf8') as f:\n",
    "    text = f.read()"
   ]
  },
  {
   "cell_type": "markdown",
   "metadata": {},
   "source": [
    "Create an object"
   ]
  },
  {
   "cell_type": "code",
   "execution_count": 4,
   "metadata": {},
   "outputs": [],
   "source": [
    "stats = TextStatistics(text)"
   ]
  },
  {
   "cell_type": "markdown",
   "metadata": {},
   "source": [
    "First, we can take a look at main statistics\n",
    "- mean_sequence_lenght - mean number of words in sentence\n",
    "- mean_words_lenght - mean number of characters in word\n",
    "- n_unique - number of unique words\n",
    "- n_unique_forms - number of unique word forms (i.e. after normalisation)"
   ]
  },
  {
   "cell_type": "code",
   "execution_count": 5,
   "metadata": {
    "scrolled": true
   },
   "outputs": [
    {
     "data": {
      "text/plain": [
       "{'mean_sentence_length': 43.273809523809526,\n",
       " 'mean_words_length': 4.305109489051095,\n",
       " 'n_unique': 179,\n",
       " 'n_unique_forms': 370}"
      ]
     },
     "execution_count": 5,
     "metadata": {},
     "output_type": "execute_result"
    }
   ],
   "source": [
    "stats.calculate_main_statics()"
   ]
  },
  {
   "cell_type": "markdown",
   "metadata": {},
   "source": [
    "Frequency analysis of text. Returns Counter object\n",
    "\n",
    "Here, we calculate frequencies of words and word n-gramms. Also, we can drow a bar of the most frequent words"
   ]
  },
  {
   "cell_type": "code",
   "execution_count": 11,
   "metadata": {},
   "outputs": [
    {
     "data": {
      "text/plain": [
       "[('–', 96),\n",
       " ('костя', 19),\n",
       " ('замазка', 19),\n",
       " ('шурик', 16),\n",
       " ('это', 9),\n",
       " ('гражданин', 8),\n",
       " ('стул', 8),\n",
       " ('–_это', 8),\n",
       " ('сесть', 7),\n",
       " ('–_замазка', 7)]"
      ]
     },
     "execution_count": 11,
     "metadata": {},
     "output_type": "execute_result"
    }
   ],
   "source": [
    "stats.get_frequent_statistics(max_n_gram=3, plot_most_frequent=False).most_common(10)"
   ]
  },
  {
   "cell_type": "code",
   "execution_count": 7,
   "metadata": {},
   "outputs": [
    {
     "data": {
      "image/png": "[encoded data removed]",
      "text/plain": [
       "<matplotlib.figure.Figure at 0x24cdd52cac8>"
      ]
     },
     "metadata": {},
     "output_type": "display_data"
    }
   ],
   "source": [
    "st = stats.get_frequent_statistics(max_n_gram=2, plot_most_frequent=True, n_freq=20)"
   ]
  },
  {
   "cell_type": "markdown",
   "metadata": {},
   "source": [
    "Morphological analysis\n",
    "\n",
    "We can see what morphology author uses. All morphology statistics is provided in terms of pymorphy2 analyser."
   ]
  },
  {
   "cell_type": "code",
   "execution_count": 8,
   "metadata": {},
   "outputs": [
    {
     "data": {
      "text/plain": [
       "{'animacy': Counter({'anim': 33, 'inan': 38}),\n",
       " 'aspect': Counter({'impf': 26, 'perf': 59}),\n",
       " 'case': Counter({'ablt': 7,\n",
       "          'accs': 25,\n",
       "          'datv': 5,\n",
       "          'gent': 17,\n",
       "          'loct': 4,\n",
       "          'nomn': 90}),\n",
       " 'gender': Counter({'femn': 28, 'masc': 104, 'neut': 23}),\n",
       " 'number': Counter({'plur': 41, 'sing': 185}),\n",
       " 'parts_of_speech': Counter({'ADJF': 20,\n",
       "          'ADVB': 30,\n",
       "          'COMP': 2,\n",
       "          'CONJ': 55,\n",
       "          'INFN': 5,\n",
       "          'INTJ': 1,\n",
       "          'NOUN': 69,\n",
       "          'NPRO': 57,\n",
       "          'NUMR': 2,\n",
       "          'PRCL': 37,\n",
       "          'PRED': 1,\n",
       "          'PREP': 48,\n",
       "          'VERB': 80}),\n",
       " 'tense': Counter({'futr': 2, 'past': 66, 'pres': 7})}"
      ]
     },
     "execution_count": 8,
     "metadata": {},
     "output_type": "execute_result"
    }
   ],
   "source": [
    "stats.get_morph_statistics()"
   ]
  },
  {
   "cell_type": "markdown",
   "metadata": {},
   "source": [
    "Lexical Density\n",
    "\n",
    "Lexical density is a special metric, that shows if text is from specific domain, based on terms dictionary"
   ]
  },
  {
   "cell_type": "code",
   "execution_count": 12,
   "metadata": {},
   "outputs": [
    {
     "data": {
      "text/plain": [
       "(0.016317016317016316, 0.004662004662004662)"
      ]
     },
     "execution_count": 12,
     "metadata": {},
     "output_type": "execute_result"
    }
   ],
   "source": [
    "terms = ['мальчик', 'ребенок', 'взмахнул', 'пряник', 'ребята']\n",
    "terms_2 = ['анализ', 'ряд', 'свойство']\n",
    "\n",
    "stats.get_lexical_density(terms), stats.get_lexical_density(terms_2)"
   ]
  },
  {
   "cell_type": "code",
   "execution_count": null,
   "metadata": {
    "collapsed": true
   },
   "outputs": [],
   "source": []
  }
 ],
 "metadata": {
  "kernelspec": {
   "display_name": "Python 3",
   "language": "python",
   "name": "python3"
  }
 },
 "nbformat": 4,
 "nbformat_minor": 2
}
